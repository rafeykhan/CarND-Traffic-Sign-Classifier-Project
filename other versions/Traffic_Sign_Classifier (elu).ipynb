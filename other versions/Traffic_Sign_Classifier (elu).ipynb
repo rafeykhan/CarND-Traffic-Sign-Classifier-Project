{
 "cells": [
  {
   "cell_type": "markdown",
   "metadata": {},
   "source": [
    "# Self-Driving Car Engineer Nanodegree\n",
    "\n",
    "## Deep Learning\n",
    "\n",
    "## Project: Build a Traffic Sign Recognition Classifier\n",
    "\n",
    "In this notebook, a template is provided for you to implement your functionality in stages, which is required to successfully complete this project. If additional code is required that cannot be included in the notebook, be sure that the Python code is successfully imported and included in your submission if necessary. \n",
    "\n",
    "> **Note**: Once you have completed all of the code implementations, you need to finalize your work by exporting the iPython Notebook as an HTML document. Before exporting the notebook to html, all of the code cells need to have been run so that reviewers can see the final implementation and output. You can then export the notebook by using the menu above and navigating to  \\n\",\n",
    "    \"**File -> Download as -> HTML (.html)**. Include the finished document along with this notebook as your submission. \n",
    "\n",
    "In addition to implementing code, there is a writeup to complete. The writeup should be completed in a separate file, which can be either a markdown file or a pdf document. There is a [write up template](https://github.com/udacity/CarND-Traffic-Sign-Classifier-Project/blob/master/writeup_template.md) that can be used to guide the writing process. Completing the code template and writeup template will cover all of the [rubric points](https://review.udacity.com/#!/rubrics/481/view) for this project.\n",
    "\n",
    "The [rubric](https://review.udacity.com/#!/rubrics/481/view) contains \"Stand Out Suggestions\" for enhancing the project beyond the minimum requirements. The stand out suggestions are optional. If you decide to pursue the \"stand out suggestions\", you can include the code in this Ipython notebook and also discuss the results in the writeup file.\n",
    "\n",
    "\n",
    ">**Note:** Code and Markdown cells can be executed using the **Shift + Enter** keyboard shortcut. In addition, Markdown cells can be edited by typically double-clicking the cell to enter edit mode."
   ]
  },
  {
   "cell_type": "markdown",
   "metadata": {},
   "source": [
    "---\n",
    "## Step 0: Load The Data"
   ]
  },
  {
   "cell_type": "code",
   "execution_count": 1,
   "metadata": {
    "collapsed": true
   },
   "outputs": [],
   "source": [
    "# Load pickled data\n",
    "import pickle\n",
    "\n",
    "# TODO: Fill this in based on where you saved the training and testing data\n",
    "\n",
    "training_file = \"traffic-signs-data/train.p\"\n",
    "validation_file=\"traffic-signs-data/valid.p\"\n",
    "testing_file = \"traffic-signs-data/test.p\"\n",
    "\n",
    "with open(training_file, mode='rb') as f:\n",
    "    train = pickle.load(f)\n",
    "with open(validation_file, mode='rb') as f:\n",
    "    valid = pickle.load(f)\n",
    "with open(testing_file, mode='rb') as f:\n",
    "    test = pickle.load(f)\n",
    "    \n",
    "X_train, y_train = train['features'], train['labels']\n",
    "X_valid, y_valid = valid['features'], valid['labels']\n",
    "X_test, y_test = test['features'], test['labels']\n"
   ]
  },
  {
   "cell_type": "markdown",
   "metadata": {},
   "source": [
    "---\n",
    "\n",
    "## Step 1: Dataset Summary & Exploration\n",
    "\n",
    "The pickled data is a dictionary with 4 key/value pairs:\n",
    "\n",
    "- `'features'` is a 4D array containing raw pixel data of the traffic sign images, (num examples, width, height, channels).\n",
    "- `'labels'` is a 1D array containing the label/class id of the traffic sign. The file `signnames.csv` contains id -> name mappings for each id.\n",
    "- `'sizes'` is a list containing tuples, (width, height) representing the original width and height the image.\n",
    "- `'coords'` is a list containing tuples, (x1, y1, x2, y2) representing coordinates of a bounding box around the sign in the image. **THESE COORDINATES ASSUME THE ORIGINAL IMAGE. THE PICKLED DATA CONTAINS RESIZED VERSIONS (32 by 32) OF THESE IMAGES**\n",
    "\n",
    "Complete the basic data summary below. Use python, numpy and/or pandas methods to calculate the data summary rather than hard coding the results. For example, the [pandas shape method](http://pandas.pydata.org/pandas-docs/stable/generated/pandas.DataFrame.shape.html) might be useful for calculating some of the summary results. "
   ]
  },
  {
   "cell_type": "markdown",
   "metadata": {},
   "source": [
    "### Provide a Basic Summary of the Data Set Using Python, Numpy and/or Pandas"
   ]
  },
  {
   "cell_type": "code",
   "execution_count": 2,
   "metadata": {},
   "outputs": [
    {
     "name": "stdout",
     "output_type": "stream",
     "text": [
      "Number of training examples = 34799\n",
      "Number of testing examples = 12630\n",
      "Image data shape = (32, 32, 3)\n",
      "Number of classes = 43\n"
     ]
    }
   ],
   "source": [
    "### Replace each question mark with the appropriate value. \n",
    "### Use python, pandas or numpy methods rather than hard coding the results\n",
    "\n",
    "# Number of training examples\n",
    "n_train = len(X_train)\n",
    "\n",
    "# Number of validation examples\n",
    "n_validation = len(X_valid)\n",
    "\n",
    "# Number of testing examples.\n",
    "n_test = len(X_test)\n",
    "\n",
    "# Shape of a traffic sign image\n",
    "image_shape = X_train[0].shape\n",
    "\n",
    "# How many unique classes/labels there are in the dataset.\n",
    "n_classes = max(y_train)-min(y_train)+1\n",
    "\n",
    "print(\"Number of training examples =\", n_train)\n",
    "print(\"Number of testing examples =\", n_test)\n",
    "print(\"Image data shape =\", image_shape)\n",
    "print(\"Number of classes =\", n_classes)"
   ]
  },
  {
   "cell_type": "markdown",
   "metadata": {},
   "source": [
    "### Include an exploratory visualization of the dataset"
   ]
  },
  {
   "cell_type": "markdown",
   "metadata": {},
   "source": [
    "Visualize the German Traffic Signs Dataset using the pickled file(s). This is open ended, suggestions include: plotting traffic sign images, plotting the count of each sign, etc. \n",
    "\n",
    "The [Matplotlib](http://matplotlib.org/) [examples](http://matplotlib.org/examples/index.html) and [gallery](http://matplotlib.org/gallery.html) pages are a great resource for doing visualizations in Python.\n",
    "\n",
    "**NOTE:** It's recommended you start with something simple first. If you wish to do more, come back to it after you've completed the rest of the sections. It can be interesting to look at the distribution of classes in the training, validation and test set. Is the distribution the same? Are there more examples of some classes than others?"
   ]
  },
  {
   "cell_type": "code",
   "execution_count": 253,
   "metadata": {},
   "outputs": [
    {
     "data": {
      "image/png": "[encoded data removed]",
      "text/plain": [
       "<matplotlib.figure.Figure at 0x2220550c828>"
      ]
     },
     "metadata": {},
     "output_type": "display_data"
    },
    {
     "data": {
      "image/png": "[encoded data removed]",
      "text/plain": [
       "<matplotlib.figure.Figure at 0x22205428c18>"
      ]
     },
     "metadata": {},
     "output_type": "display_data"
    }
   ],
   "source": [
    "### Data exploration visualization code goes here.\n",
    "### Feel free to use as many code cells as needed.\n",
    "import matplotlib.pyplot as plt\n",
    "# Visualizations will be shown in the notebook.\n",
    "%matplotlib inline\n",
    "\n",
    "plt.figure();\n",
    "plt.title(\"Train label freq\");plt.xlabel(\"Labels\");plt.ylabel(\"Frequency\")\n",
    "plt.xticks( range(0,n_classes,2) )\n",
    "plt.hist(y_train,bins=range(n_classes+1));\n",
    "\n",
    "plt.figure();\n",
    "plt.title(\"validation label freq\");plt.xlabel(\"Labels\");plt.ylabel(\"Frequency\")\n",
    "plt.xticks( range(0,n_classes,2) )\n",
    "plt.hist(y_valid,bins=range(n_classes+1));\n"
   ]
  },
  {
   "cell_type": "code",
   "execution_count": 4,
   "metadata": {
    "collapsed": true
   },
   "outputs": [],
   "source": [
    "import numpy as np\n",
    "import cv2\n",
    "import scipy\n",
    "\n",
    "from skimage import transform\n",
    "\n",
    "def rotate(image):\n",
    "    angle = np.random.randint(-15,15)\n",
    "    while (angle<5 and angle>-5):\n",
    "        angle = np.random.randint(-15,15)\n",
    "    return transform.rotate(image, angle, resize=False, center=None,preserve_range=True).astype('uint8')\n",
    "\n",
    "def translate_r(image):\n",
    "    M = np.float32([[1,0,4],[0,1,4]])\n",
    "    img = cv2.warpAffine(image,M,(32,32))\n",
    "    n = img[4:,4:,:]\n",
    "    return transform.resize(n,(32,32,3),mode='reflect', preserve_range=True).astype('uint8')\n",
    "\n",
    "def translate_l(image):\n",
    "    M = np.float32([[1,0,-4],[0,1,-4]])\n",
    "    img = cv2.warpAffine(image,M,(32,32))\n",
    "    n = img[:-4,:-4,:]\n",
    "    return transform.resize(n,(32,32,3),mode='reflect', preserve_range=True).astype('uint8')\n",
    "\n",
    "def distort(image):\n",
    "    pts1 = np.float32([[0,0],[29,2],[2,29],[31,31]])\n",
    "    pts2 = np.float32([[0,0],[31,0],[0,31],[31,31]])\n",
    "    M = cv2.getPerspectiveTransform(pts1,pts2)\n",
    "\n",
    "    return cv2.warpPerspective(image,M,(32,32))\n",
    "\n",
    "def zoom(image):\n",
    "    pts1 = np.float32([[2,2],[29,2],[2,29],[29,29]])\n",
    "    pts2 = np.float32([[0,0],[31,0],[0,31],[31,31]])\n",
    "    M = cv2.getPerspectiveTransform(pts1,pts2)\n",
    "\n",
    "    return cv2.warpPerspective(image,M,(32,32))\n",
    "\n",
    "def process_image_helper(image,n):\n",
    "    \n",
    "    if n==0:\n",
    "        return rotate(image)\n",
    "    if n==1:\n",
    "        return translate_r(image)\n",
    "    if n==2:\n",
    "        return translate_l(image)\n",
    "    if n==3:\n",
    "        return distort(image)\n",
    "    if n==4:\n",
    "        return zoom(image)\n",
    "\n",
    "    \n",
    "def process_image(image):\n",
    "    choices = [0,1,2,3,4]\n",
    "    n = np.random.randint(5)\n",
    "    image1 = process_image_helper(image,choices[n])\n",
    "    \n",
    "    choices.pop(n)\n",
    "    n = np.random.randint(4)\n",
    "    image2 = process_image_helper(image,choices[n])\n",
    "    \n",
    "    choices.pop(n)\n",
    "    n = np.random.randint(3)\n",
    "    image3 = process_image_helper(image,choices[n])\n",
    "    return image1,image2,image3\n"
   ]
  },
  {
   "cell_type": "code",
   "execution_count": 5,
   "metadata": {},
   "outputs": [
    {
     "name": "stdout",
     "output_type": "stream",
     "text": [
      "More data generated\n",
      "Shape before..\n",
      "(34799, 32, 32, 3)\n",
      "(34799,)\n",
      "\n",
      "Shape of new data to be added..\n",
      "(18180, 32, 32, 3)\n",
      "(18180,)\n",
      "\n",
      "Shape after..\n",
      "(52979, 32, 32, 3)\n",
      "(52979,)\n"
     ]
    },
    {
     "data": {
      "image/png": "[encoded data removed]",
      "text/plain": [
       "<matplotlib.figure.Figure at 0x2222542ac18>"
      ]
     },
     "metadata": {},
     "output_type": "display_data"
    },
    {
     "data": {
      "image/png": "[encoded data removed]",
      "text/plain": [
       "<matplotlib.figure.Figure at 0x222253a8588>"
      ]
     },
     "metadata": {},
     "output_type": "display_data"
    }
   ],
   "source": [
    "target = 500\n",
    "\n",
    "hist = np.histogram(y_train,bins=range(n_classes+1))\n",
    "features = hist[0]\n",
    "labels = hist[1][:-1]\n",
    "#print(features); print(labels)\n",
    "\n",
    "assert(len(labels)==len(features))\n",
    "X_train_add=[]\n",
    "y_train_add=[]\n",
    "for i in range(len(X_train)):\n",
    "    label = y_train[i]\n",
    "    if features[label] < target:\n",
    "        im = np.copy(X_train[i])\n",
    "        im1, im2, im3 = process_image(im)\n",
    "        X_train_add.append(im1)\n",
    "        X_train_add.append(im2)\n",
    "        X_train_add.append(im3)\n",
    "        y_train_add.append(label)\n",
    "        y_train_add.append(label)\n",
    "        y_train_add.append(label)\n",
    "\n",
    "print (\"More data generated\")\n",
    "print (\"Shape before..\")\n",
    "print (X_train.shape)\n",
    "print (y_train.shape)\n",
    "print()\n",
    "print (\"Shape of new data to be added..\")\n",
    "print (np.array(X_train_add).shape)\n",
    "print (np.array(y_train_add).shape)\n",
    "print()\n",
    "\n",
    "plt.figure();\n",
    "plt.title(\"Train label freq before\");plt.xlabel(\"Labels\");plt.ylabel(\"Frequency\")\n",
    "plt.xticks( range(0,n_classes,2) )\n",
    "plt.hist(y_train,bins=range(n_classes+1));\n",
    "\n",
    "X_train = np.concatenate((X_train,np.array(X_train_add)),axis=0).astype('uint8')\n",
    "y_train = np.concatenate((y_train,np.array(y_train_add)),axis=0).astype('uint8')\n",
    "\n",
    "print (\"Shape after..\")\n",
    "print (X_train.shape)\n",
    "print (y_train.shape)\n",
    "\n",
    "plt.figure();\n",
    "plt.title(\"Train label freq after\");plt.xlabel(\"Labels\");plt.ylabel(\"Frequency\")\n",
    "plt.xticks( range(0,n_classes,2) )\n",
    "plt.hist(y_train,bins=range(n_classes+1));\n",
    "\n"
   ]
  },
  {
   "cell_type": "code",
   "execution_count": 6,
   "metadata": {
    "scrolled": true
   },
   "outputs": [
    {
     "name": "stdout",
     "output_type": "stream",
     "text": [
      "index =  52409\n",
      "label =  28\n"
     ]
    },
    {
     "data": {
      "image/png": "[encoded data removed]",
      "text/plain": [
       "<matplotlib.figure.Figure at 0x222223a0fd0>"
      ]
     },
     "metadata": {},
     "output_type": "display_data"
    }
   ],
   "source": [
    "import random\n",
    "index = random.randint(0, len(X_train))\n",
    "\n",
    "print('index = ',index)\n",
    "image = X_train[index]\n",
    "\n",
    "plt.figure();plt.imshow(image)\n",
    "print('label = ',y_train[index])\n"
   ]
  },
  {
   "cell_type": "markdown",
   "metadata": {},
   "source": [
    "----\n",
    "\n",
    "## Step 2: Design and Test a Model Architecture\n",
    "\n",
    "Design and implement a deep learning model that learns to recognize traffic signs. Train and test your model on the [German Traffic Sign Dataset](http://benchmark.ini.rub.de/?section=gtsrb&subsection=dataset).\n",
    "\n",
    "The LeNet-5 implementation shown in the [classroom](https://classroom.udacity.com/nanodegrees/nd013/parts/fbf77062-5703-404e-b60c-95b78b2f3f9e/modules/6df7ae49-c61c-4bb2-a23e-6527e69209ec/lessons/601ae704-1035-4287-8b11-e2c2716217ad/concepts/d4aca031-508f-4e0b-b493-e7b706120f81) at the end of the CNN lesson is a solid starting point. You'll have to change the number of classes and possibly the preprocessing, but aside from that it's plug and play! \n",
    "\n",
    "With the LeNet-5 solution from the lecture, you should expect a validation set accuracy of about 0.89. To meet specifications, the validation set accuracy will need to be at least 0.93. It is possible to get an even higher accuracy, but 0.93 is the minimum for a successful project submission. \n",
    "\n",
    "There are various aspects to consider when thinking about this problem:\n",
    "\n",
    "- Neural network architecture (is the network over or underfitting?)\n",
    "- Play around preprocessing techniques (normalization, rgb to grayscale, etc)\n",
    "- Number of examples per label (some have more than others).\n",
    "- Generate fake data.\n",
    "\n",
    "Here is an example of a [published baseline model on this problem](http://yann.lecun.com/exdb/publis/pdf/sermanet-ijcnn-11.pdf). It's not required to be familiar with the approach used in the paper but, it's good practice to try to read papers like these."
   ]
  },
  {
   "cell_type": "markdown",
   "metadata": {},
   "source": [
    "### Pre-process the Data Set (normalization, grayscale, etc.)"
   ]
  },
  {
   "cell_type": "markdown",
   "metadata": {},
   "source": [
    "Minimally, the image data should be normalized so that the data has mean zero and equal variance. For image data, `(pixel - 128)/ 128` is a quick way to approximately normalize the data and can be used in this project. \n",
    "\n",
    "Other pre-processing steps are optional. You can try different techniques to see if it improves performance. \n",
    "\n",
    "Use the code cell (or multiple code cells, if necessary) to implement the first step of your project."
   ]
  },
  {
   "cell_type": "code",
   "execution_count": 254,
   "metadata": {},
   "outputs": [
    {
     "data": {
      "image/png": "[encoded data removed]",
      "text/plain": [
       "<matplotlib.figure.Figure at 0x22201a46e48>"
      ]
     },
     "metadata": {},
     "output_type": "display_data"
    }
   ],
   "source": [
    "img0 = translate_r(image)\n",
    "img1 = translate_l(image)                    \n",
    "img2= rotate(image)\n",
    "img3=zoom(image)\n",
    "img4=distort(image)\n",
    "\n",
    "plt.figure(figsize=(15,5));\n",
    "plt.subplot(161),plt.imshow(image),plt.title('Input')\n",
    "plt.subplot(162),plt.imshow(img0),plt.title('Translate R')\n",
    "plt.subplot(163),plt.imshow(img1),plt.title('Translate L')\n",
    "plt.subplot(164),plt.imshow(img2),plt.title('rotate')\n",
    "plt.subplot(165),plt.imshow(img3),plt.title('zoom')\n",
    "plt.subplot(166),plt.imshow(img4),plt.title('distort')\n",
    "plt.show()\n"
   ]
  },
  {
   "cell_type": "code",
   "execution_count": 255,
   "metadata": {},
   "outputs": [
    {
     "data": {
      "image/png": "[encoded data removed]",
      "text/plain": [
       "<matplotlib.figure.Figure at 0x222055ca0b8>"
      ]
     },
     "metadata": {},
     "output_type": "display_data"
    }
   ],
   "source": [
    "### Preprocess the data here. It is required to normalize the data. Other preprocessing steps could include \n",
    "### converting to grayscale, etc.\n",
    "### Feel free to use as many code cells as needed.\n",
    "\n",
    "def to_gray(images):\n",
    "    # Convert to gray image, equalize it and add expand dimension\n",
    "    imgs = np.ndarray((images.shape[0], 32, 32, 1), dtype=np.uint8)\n",
    "    for i, img in enumerate(images):\n",
    "        img = cv2.cvtColor(img, cv2.COLOR_RGB2GRAY) \n",
    "        #img = cv2.equalizeHist(img)\n",
    "        img = np.expand_dims(img, axis=2)\n",
    "        imgs[i] = img\n",
    "    return imgs\n",
    "\n",
    "plt.figure()\n",
    "plt.subplot(1,2,1);plt.imshow(X_train[index]);plt.title('Original')\n",
    "\n",
    "X_train = to_gray(X_train)\n",
    "X_valid = to_gray(X_valid)\n",
    "X_test = to_gray(X_test)\n",
    "\n",
    "plt.subplot(1,2,2);plt.imshow(X_train[index].squeeze(), cmap=\"gray\");plt.title('Gray')\n",
    "plt.show()"
   ]
  },
  {
   "cell_type": "code",
   "execution_count": 9,
   "metadata": {},
   "outputs": [
    {
     "name": "stdout",
     "output_type": "stream",
     "text": [
      "0 255\n",
      "\n",
      "Images normalized\n",
      "-1.26596960756 2.65851210505\n"
     ]
    }
   ],
   "source": [
    "def normalize(images,mean,std):\n",
    "    return (images- mean)/ std\n",
    "\n",
    "mean = np.mean(X_train)\n",
    "std = np.std(X_train)\n",
    "\n",
    "X_train = normalize(X_train,mean,std)\n",
    "X_valid = normalize(X_valid,mean,std)\n",
    "X_test = normalize(X_test,mean,std)\n",
    "\n",
    "print (\"Images normalized\")\n"
   ]
  },
  {
   "cell_type": "code",
   "execution_count": 10,
   "metadata": {},
   "outputs": [
    {
     "name": "stdout",
     "output_type": "stream",
     "text": [
      "data shape :  (52979, 32, 32, 1)\n"
     ]
    },
    {
     "data": {
      "image/png": "[encoded data removed]",
      "text/plain": [
       "<matplotlib.figure.Figure at 0x22227766c88>"
      ]
     },
     "metadata": {},
     "output_type": "display_data"
    }
   ],
   "source": [
    "plt.figure();plt.imshow(X_train[index].squeeze(), cmap=\"gray\");plt.title('Normalized')\n",
    "print (\"data shape : \",X_train.shape)\n"
   ]
  },
  {
   "cell_type": "markdown",
   "metadata": {},
   "source": [
    "### Model Architecture"
   ]
  },
  {
   "cell_type": "code",
   "execution_count": 11,
   "metadata": {
    "collapsed": true
   },
   "outputs": [],
   "source": [
    "from tensorflow.contrib.layers import flatten\n",
    "\n",
    "def LeNet(x, keep_prob1, keep_prob2):    \n",
    "    # Arguments used for tf.truncated_normal\n",
    "    mu = 0\n",
    "    sigma = 0.1\n",
    "    \n",
    "    # Layer 1: Convolutional. Input = 32x32x1. Output = 28x28x6.\n",
    "    fw_conv1 = tf.Variable(tf.truncated_normal((5,5,1,6), mean=mu,stddev=sigma))  # 5x5 filter \n",
    "    fb_conv1 = tf.Variable(tf.zeros(6))\n",
    "    conv1 = tf.nn.conv2d(x, fw_conv1, strides= [1,1,1,1], padding = 'VALID')\n",
    "    conv1 = tf.nn.bias_add(conv1,fb_conv1)\n",
    "    \n",
    "    conv1 = tf.nn.elu(conv1)    \n",
    "    # Pooling. Input = 28x28x6. Output = 14x14x6.\n",
    "    conv1 = tf.nn.max_pool(conv1, ksize=(1,2,2,1), strides=(1,2,2,1), padding= 'VALID')\n",
    "    conv1 = tf.nn.dropout(conv1, keep_prob1)\n",
    "    \n",
    "    # Layer 2: Convolutional. Output = 10x10x16.\n",
    "    \n",
    "    fw_conv2 = tf.Variable(tf.truncated_normal((5,5,6,16), mean=mu, stddev=sigma))\n",
    "    fb_conv2 = tf.Variable(tf.zeros(16))\n",
    "    conv2 = tf.nn.conv2d(conv1, fw_conv2, strides=(1,1,1,1), padding='VALID')\n",
    "    conv2 = tf.nn.bias_add(conv2,fb_conv2)\n",
    "        \n",
    "    conv2 = tf.nn.elu(conv2)\n",
    "    # Pooling. Input = 10x10x16. Output = 5x5x16.\n",
    "    conv2 = tf.nn.max_pool(conv2, ksize=(1,2,2,1), strides=(1,2,2,1), padding='VALID')\n",
    "    conv2 = tf.nn.dropout(conv2, keep_prob1)\n",
    "\n",
    "    # Flatten. Input = 5x5x16. Output = 400.\n",
    "    fc0 = flatten(conv2)\n",
    "    \n",
    "    # Layer 3: Fully Connected. Input = 400. Output = 120.\n",
    "    w_fc1 = tf.Variable(tf.truncated_normal((5*5*16,120), mean=mu, stddev=sigma))\n",
    "    b_fc1 = tf.Variable(tf.zeros(120))\n",
    "    fc1 = tf.add(tf.matmul(fc0, w_fc1), b_fc1)\n",
    "    \n",
    "    fc1 = tf.nn.elu(fc1)\n",
    "    fc1 = tf.nn.dropout(fc1, keep_prob2)\n",
    "\n",
    "    # Layer 4: Fully Connected. Input = 120. Output = 84.\n",
    "    w_fc2 = tf.Variable(tf.truncated_normal((120,84), mean=mu, stddev=sigma))\n",
    "    b_fc2 = tf.Variable(tf.zeros(84))\n",
    "    fc2 = tf.add(tf.matmul(fc1,w_fc2),b_fc2)\n",
    "    \n",
    "    fc2 = tf.nn.elu(fc2)\n",
    "    fc2 = tf.nn.dropout(fc2, keep_prob2)\n",
    "\n",
    "    # Layer 5: Fully Connected. Input = 84. Output = n_classes.\n",
    "    w_out = tf.Variable(tf.truncated_normal((84,n_classes), mean=mu, stddev=sigma))\n",
    "    b_out = tf.Variable(tf.zeros(n_classes))\n",
    "    logits = tf.add(tf.matmul(fc2,w_out),b_out)\n",
    "    \n",
    "    l2_loss = tf.nn.l2_loss(fw_conv1) + tf.nn.l2_loss(fw_conv2) + tf.nn.l2_loss(w_fc1) + tf.nn.l2_loss(w_fc2) + tf.nn.l2_loss(w_out)\n",
    "    l2_loss = 0.0001 * l2_loss\n",
    "    \n",
    "    return logits, l2_loss"
   ]
  },
  {
   "cell_type": "markdown",
   "metadata": {},
   "source": [
    "### Train, Validate and Test the Model"
   ]
  },
  {
   "cell_type": "markdown",
   "metadata": {},
   "source": [
    "A validation set can be used to assess how well the model is performing. A low accuracy on the training and validation\n",
    "sets imply underfitting. A high accuracy on the training set but low accuracy on the validation set implies overfitting."
   ]
  },
  {
   "cell_type": "code",
   "execution_count": 12,
   "metadata": {},
   "outputs": [],
   "source": [
    "### Train your model here.\n",
    "### Calculate and report the accuracy on the training and validation set.\n",
    "### Once a final model architecture is selected, \n",
    "### the accuracy on the test set should be calculated and reported as well.\n",
    "### Feel free to use as many code cells as needed.\n",
    "\n",
    "import tensorflow as tf\n",
    "from tensorflow.contrib.layers import batch_norm\n",
    "\n",
    "x = tf.placeholder(tf.float32, (None, 32, 32, None))\n",
    "y = tf.placeholder(tf.int32, (None))\n",
    "keep_prob1 = tf.placeholder(tf.float32)\n",
    "keep_prob2 = tf.placeholder(tf.float32)\n",
    "one_hot_y = tf.one_hot(y, n_classes)\n",
    "\n",
    "EPOCHS = 100\n",
    "BATCH_SIZE = 128\n",
    "\n",
    "## training pipeline ##\n",
    "\n",
    "rate = 0.001\n",
    "\n",
    "logits, l2_loss = LeNet(x, keep_prob1, keep_prob2)\n",
    "cross_entropy = tf.nn.softmax_cross_entropy_with_logits(labels=one_hot_y, logits=logits)\n",
    "loss_op = tf.reduce_mean(cross_entropy)# + l2_loss)\n",
    "\n",
    "loss_operation = tf.reduce_mean(loss_op + l2_loss)\n",
    "\n",
    "optimizer = tf.train.AdamOptimizer(learning_rate = rate)\n",
    "training_operation = optimizer.minimize(loss_operation)\n",
    "\n",
    "\n",
    "## model evaluation ##\n",
    "correct_prediction = tf.equal(tf.argmax(logits,1) , tf.argmax(one_hot_y,1))\n",
    "accuracy_operation = tf.reduce_mean(tf.cast(correct_prediction,tf.float32))\n",
    "saver = tf.train.Saver()\n",
    "\n",
    "def evaluate(X_data, y_data):\n",
    "    num_examples = len(X_data)\n",
    "    total_accuracy = 0\n",
    "    sess = tf.get_default_session()\n",
    "    \n",
    "    for offset in range(0, num_examples, BATCH_SIZE):\n",
    "        batch_x, batch_y = X_data[offset : offset+BATCH_SIZE], y_data[offset : offset+BATCH_SIZE]\n",
    "        accuracy = sess.run(accuracy_operation, feed_dict={x:batch_x , y:batch_y , keep_prob1:1.0, keep_prob2:1.0})\n",
    "        total_accuracy += (accuracy * len(batch_x))\n",
    "    \n",
    "    return total_accuracy/num_examples\n",
    "\n",
    "\n"
   ]
  },
  {
   "cell_type": "code",
   "execution_count": 13,
   "metadata": {},
   "outputs": [
    {
     "name": "stdout",
     "output_type": "stream",
     "text": [
      "Training...\n",
      "\n",
      "EPOCH 1 ...\n",
      "Validation Accuracy = 0.794\n",
      "\n",
      "EPOCH 2 ...\n",
      "Validation Accuracy = 0.868\n",
      "\n",
      "EPOCH 3 ...\n",
      "Validation Accuracy = 0.903\n",
      "\n",
      "EPOCH 4 ...\n",
      "Validation Accuracy = 0.921\n",
      "\n",
      "EPOCH 5 ...\n",
      "Validation Accuracy = 0.928\n",
      "\n",
      "EPOCH 6 ...\n",
      "Validation Accuracy = 0.938\n",
      "\n",
      "EPOCH 7 ...\n",
      "Validation Accuracy = 0.942\n",
      "\n",
      "EPOCH 8 ...\n",
      "Validation Accuracy = 0.953\n",
      "\n",
      "EPOCH 9 ...\n",
      "Validation Accuracy = 0.955\n",
      "\n",
      "EPOCH 10 ...\n",
      "Validation Accuracy = 0.955\n",
      "\n",
      "EPOCH 11 ...\n",
      "Validation Accuracy = 0.954\n",
      "\n",
      "EPOCH 12 ...\n",
      "Validation Accuracy = 0.956\n",
      "\n",
      "EPOCH 13 ...\n",
      "Validation Accuracy = 0.957\n",
      "\n",
      "EPOCH 14 ...\n",
      "Validation Accuracy = 0.959\n",
      "\n",
      "EPOCH 15 ...\n",
      "Validation Accuracy = 0.962\n",
      "\n",
      "EPOCH 16 ...\n",
      "Validation Accuracy = 0.962\n",
      "\n",
      "EPOCH 17 ...\n",
      "Validation Accuracy = 0.966\n",
      "\n",
      "EPOCH 18 ...\n",
      "Validation Accuracy = 0.964\n",
      "\n",
      "EPOCH 19 ...\n",
      "Validation Accuracy = 0.959\n",
      "\n",
      "EPOCH 20 ...\n",
      "Validation Accuracy = 0.967\n",
      "\n",
      "EPOCH 21 ...\n",
      "Validation Accuracy = 0.966\n",
      "\n",
      "EPOCH 22 ...\n",
      "Validation Accuracy = 0.966\n",
      "\n",
      "EPOCH 23 ...\n",
      "Validation Accuracy = 0.966\n",
      "\n",
      "EPOCH 24 ...\n",
      "Validation Accuracy = 0.967\n",
      "\n",
      "EPOCH 25 ...\n",
      "Validation Accuracy = 0.965\n",
      "\n",
      "EPOCH 26 ...\n",
      "Validation Accuracy = 0.968\n",
      "\n",
      "EPOCH 27 ...\n",
      "Validation Accuracy = 0.968\n",
      "\n",
      "EPOCH 28 ...\n",
      "Validation Accuracy = 0.971\n",
      "\n",
      "EPOCH 29 ...\n",
      "Validation Accuracy = 0.966\n",
      "\n",
      "EPOCH 30 ...\n",
      "Validation Accuracy = 0.972\n",
      "\n",
      "EPOCH 31 ...\n",
      "Validation Accuracy = 0.971\n",
      "\n",
      "EPOCH 32 ...\n",
      "Validation Accuracy = 0.970\n",
      "\n",
      "EPOCH 33 ...\n",
      "Validation Accuracy = 0.969\n",
      "\n",
      "EPOCH 34 ...\n",
      "Validation Accuracy = 0.974\n",
      "\n",
      "EPOCH 35 ...\n",
      "Validation Accuracy = 0.970\n",
      "\n",
      "EPOCH 36 ...\n",
      "Validation Accuracy = 0.968\n",
      "\n",
      "EPOCH 37 ...\n",
      "Validation Accuracy = 0.970\n",
      "\n",
      "EPOCH 38 ...\n",
      "Validation Accuracy = 0.973\n",
      "\n",
      "EPOCH 39 ...\n",
      "Validation Accuracy = 0.968\n",
      "\n",
      "EPOCH 40 ...\n",
      "Validation Accuracy = 0.974\n",
      "\n",
      "EPOCH 41 ...\n",
      "Validation Accuracy = 0.974\n",
      "\n",
      "EPOCH 42 ...\n",
      "Validation Accuracy = 0.973\n",
      "\n",
      "EPOCH 43 ...\n",
      "Validation Accuracy = 0.973\n",
      "\n",
      "EPOCH 44 ...\n",
      "Validation Accuracy = 0.976\n",
      "\n",
      "EPOCH 45 ...\n",
      "Validation Accuracy = 0.977\n",
      "\n",
      "EPOCH 46 ...\n",
      "Validation Accuracy = 0.976\n",
      "\n",
      "EPOCH 47 ...\n",
      "Validation Accuracy = 0.970\n",
      "\n",
      "EPOCH 48 ...\n",
      "Validation Accuracy = 0.972\n",
      "\n",
      "EPOCH 49 ...\n",
      "Validation Accuracy = 0.972\n",
      "\n",
      "EPOCH 50 ...\n",
      "Validation Accuracy = 0.974\n",
      "\n",
      "EPOCH 51 ...\n",
      "Validation Accuracy = 0.971\n",
      "\n",
      "EPOCH 52 ...\n",
      "Validation Accuracy = 0.969\n",
      "\n",
      "EPOCH 53 ...\n",
      "Validation Accuracy = 0.974\n",
      "\n",
      "EPOCH 54 ...\n",
      "Validation Accuracy = 0.977\n",
      "\n",
      "EPOCH 55 ...\n",
      "Validation Accuracy = 0.977\n",
      "\n",
      "EPOCH 56 ...\n",
      "Validation Accuracy = 0.975\n",
      "\n",
      "EPOCH 57 ...\n",
      "Validation Accuracy = 0.975\n",
      "\n",
      "EPOCH 58 ...\n",
      "Validation Accuracy = 0.971\n",
      "\n",
      "EPOCH 59 ...\n",
      "Validation Accuracy = 0.975\n",
      "\n",
      "EPOCH 60 ...\n",
      "Validation Accuracy = 0.976\n",
      "\n",
      "EPOCH 61 ...\n",
      "Validation Accuracy = 0.976\n",
      "\n",
      "EPOCH 62 ...\n",
      "Validation Accuracy = 0.974\n",
      "\n",
      "EPOCH 63 ...\n",
      "Validation Accuracy = 0.975\n",
      "\n",
      "EPOCH 64 ...\n",
      "Validation Accuracy = 0.973\n",
      "\n",
      "EPOCH 65 ...\n",
      "Validation Accuracy = 0.975\n",
      "\n",
      "EPOCH 66 ...\n",
      "Validation Accuracy = 0.974\n",
      "\n",
      "EPOCH 67 ...\n",
      "Validation Accuracy = 0.973\n",
      "\n",
      "EPOCH 68 ...\n",
      "Validation Accuracy = 0.974\n",
      "\n",
      "EPOCH 69 ...\n",
      "Validation Accuracy = 0.979\n",
      "\n",
      "EPOCH 70 ...\n",
      "Validation Accuracy = 0.978\n",
      "\n",
      "EPOCH 71 ...\n",
      "Validation Accuracy = 0.971\n",
      "\n",
      "EPOCH 72 ...\n",
      "Validation Accuracy = 0.976\n",
      "\n",
      "EPOCH 73 ...\n",
      "Validation Accuracy = 0.980\n",
      "\n",
      "EPOCH 74 ...\n",
      "Validation Accuracy = 0.977\n",
      "\n",
      "EPOCH 75 ...\n",
      "Validation Accuracy = 0.977\n",
      "\n",
      "EPOCH 76 ...\n",
      "Validation Accuracy = 0.978\n",
      "\n",
      "EPOCH 77 ...\n",
      "Validation Accuracy = 0.973\n",
      "\n",
      "EPOCH 78 ...\n",
      "Validation Accuracy = 0.974\n",
      "\n",
      "EPOCH 79 ...\n",
      "Validation Accuracy = 0.976\n",
      "\n",
      "EPOCH 80 ...\n",
      "Validation Accuracy = 0.976\n",
      "\n",
      "EPOCH 81 ...\n",
      "Validation Accuracy = 0.975\n",
      "\n",
      "EPOCH 82 ...\n",
      "Validation Accuracy = 0.976\n",
      "\n",
      "EPOCH 83 ...\n",
      "Validation Accuracy = 0.977\n",
      "\n",
      "EPOCH 84 ...\n",
      "Validation Accuracy = 0.975\n",
      "\n",
      "EPOCH 85 ...\n",
      "Validation Accuracy = 0.975\n",
      "\n",
      "EPOCH 86 ...\n",
      "Validation Accuracy = 0.977\n",
      "\n",
      "EPOCH 87 ...\n",
      "Validation Accuracy = 0.974\n",
      "\n",
      "EPOCH 88 ...\n",
      "Validation Accuracy = 0.972\n",
      "\n",
      "EPOCH 89 ...\n",
      "Validation Accuracy = 0.977\n",
      "\n",
      "EPOCH 90 ...\n",
      "Validation Accuracy = 0.974\n",
      "\n",
      "EPOCH 91 ...\n",
      "Validation Accuracy = 0.974\n",
      "\n",
      "EPOCH 92 ...\n",
      "Validation Accuracy = 0.977\n",
      "\n",
      "EPOCH 93 ...\n",
      "Validation Accuracy = 0.977\n",
      "\n",
      "EPOCH 94 ...\n",
      "Validation Accuracy = 0.978\n",
      "\n",
      "EPOCH 95 ...\n",
      "Validation Accuracy = 0.976\n",
      "\n",
      "EPOCH 96 ...\n",
      "Validation Accuracy = 0.977\n",
      "\n",
      "EPOCH 97 ...\n",
      "Validation Accuracy = 0.979\n",
      "\n",
      "EPOCH 98 ...\n",
      "Validation Accuracy = 0.976\n",
      "\n",
      "EPOCH 99 ...\n",
      "Validation Accuracy = 0.979\n",
      "\n",
      "EPOCH 100 ...\n",
      "Validation Accuracy = 0.976\n",
      "\n",
      "Model saved\n"
     ]
    }
   ],
   "source": [
    "\n",
    "## model training ##\n",
    "from sklearn.utils import shuffle\n",
    "\n",
    "with tf.Session() as sess:\n",
    "    sess.run(tf.global_variables_initializer())\n",
    "    num_examples = len(X_train)\n",
    "    \n",
    "    print(\"Training...\")\n",
    "    print()\n",
    "    \n",
    "    for i in range(EPOCHS):\n",
    "        X_train, y_train = shuffle(X_train, y_train)\n",
    "            \n",
    "        for offset in range(0, num_examples, BATCH_SIZE):\n",
    "            batch_x, batch_y = X_train[offset:offset+BATCH_SIZE] , y_train[offset:offset+BATCH_SIZE]\n",
    "            \n",
    "            sess.run(training_operation, feed_dict={x:batch_x , y:batch_y , keep_prob1:0.8, keep_prob2:0.5})\n",
    "\n",
    "        validation_accuracy = evaluate(X_valid, y_valid)\n",
    "        print(\"EPOCH {} ...\".format(i+1))\n",
    "        print(\"Validation Accuracy = {:.3f}\".format(validation_accuracy))\n",
    "        print()\n",
    "        \n",
    "    saver.save(sess, './lenet')\n",
    "    print(\"Model saved\")\n",
    "\n"
   ]
  },
  {
   "cell_type": "markdown",
   "metadata": {},
   "source": [
    "### Results"
   ]
  },
  {
   "cell_type": "markdown",
   "metadata": {},
   "source": [
    "\n",
    "\n"
   ]
  },
  {
   "cell_type": "code",
   "execution_count": 14,
   "metadata": {},
   "outputs": [
    {
     "name": "stdout",
     "output_type": "stream",
     "text": [
      "Test Accuracy = 0.955\n"
     ]
    }
   ],
   "source": [
    "## EVALUATE MODEL ON TEST IMAGES ##\n",
    "\n",
    "with tf.Session() as sess:\n",
    "    saver.restore(sess, tf.train.latest_checkpoint('.'))\n",
    "\n",
    "    test_accuracy = evaluate(X_test, y_test)\n",
    "    print(\"Test Accuracy = {:.3f}\".format(test_accuracy))\n",
    "    \n",
    "    \n"
   ]
  },
  {
   "cell_type": "markdown",
   "metadata": {},
   "source": [
    "---\n",
    "\n",
    "## Step 3: Test a Model on New Images\n",
    "\n",
    "To give yourself more insight into how your model is working, download at least five pictures of German traffic signs from the web and use your model to predict the traffic sign type.\n",
    "\n",
    "You may find `signnames.csv` useful as it contains mappings from the class id (integer) to the actual sign name."
   ]
  },
  {
   "cell_type": "markdown",
   "metadata": {},
   "source": [
    "### Load and Output the Images"
   ]
  },
  {
   "cell_type": "code",
   "execution_count": 148,
   "metadata": {},
   "outputs": [
    {
     "data": {
      "image/png": "[encoded data removed]",
      "text/plain": [
       "<matplotlib.figure.Figure at 0x22200e5e860>"
      ]
     },
     "metadata": {},
     "output_type": "display_data"
    },
    {
     "data": {
      "image/png": "[encoded data removed]",
      "text/plain": [
       "<matplotlib.figure.Figure at 0x222013489b0>"
      ]
     },
     "metadata": {},
     "output_type": "display_data"
    }
   ],
   "source": [
    "### Load the images and plot them here.\n",
    "### Feel free to use as many code cells as needed.\n",
    "import matplotlib.image as mpimg\n",
    "\n",
    "files = [\n",
    "    'new_test_images/1.jpg',\n",
    "    'new_test_images/2.jpg',\n",
    "    'new_test_images/3.jpg',\n",
    "    'new_test_images/4.jpg',\n",
    "    'new_test_images/5.jpg']\n",
    "\n",
    "X_test_new = np.ndarray([5, 32, 32, 3], dtype=np.uint8)\n",
    "y_test_new = np.array([1,7,17,36,13])\n",
    "\n",
    "#plt.figure(figsize=(15,15))\n",
    "for i, img, in enumerate(files):\n",
    "    X_test_new [i] = mpimg.imread(img)\n",
    "    plt.subplot(1,5,i+1)\n",
    "    plt.imshow(X_test_new[i]); plt.title(y_test_new[i])\n",
    "\n",
    "\n",
    "X_test_new = to_gray(X_test_new.astype('uint8'))\n",
    "X_test_new = normalize(X_test_new,mean,std)\n",
    "plt.figure()\n",
    "for i in range(5):\n",
    "    plt.subplot(1,5,i+1);plt.imshow(X_test_new[i].squeeze(),cmap='gray'); plt.title(y_test_new[i])"
   ]
  },
  {
   "cell_type": "markdown",
   "metadata": {},
   "source": [
    "### Predict the Sign Type for Each Image"
   ]
  },
  {
   "cell_type": "code",
   "execution_count": 149,
   "metadata": {},
   "outputs": [],
   "source": [
    "### Run the predictions here and use the model to output the prediction for each image.\n",
    "### Make sure to pre-process the images with the same pre-processing pipeline used earlier.\n",
    "### Feel free to use as many code cells as needed.\n",
    "\n",
    "softmax = tf.nn.softmax(logits)\n",
    "prediction = tf.argmax(logits,1)\n",
    "corr_pred = None\n",
    "\n",
    "softmax_prob = None\n",
    "top_k = None\n",
    "\n",
    "with tf.Session() as sess: \n",
    "    saver.restore(sess, tf.train.latest_checkpoint('.'))\n",
    "    softmax_prob, corr_pred = sess.run([softmax, prediction], feed_dict={x: X_test_new, y: y_test_new, keep_prob1: 1.0, keep_prob2: 1.0})    \n",
    "    top_k = sess.run(tf.nn.top_k(tf.constant(softmax_prob), k=5))\n",
    "\n"
   ]
  },
  {
   "cell_type": "code",
   "execution_count": 171,
   "metadata": {},
   "outputs": [
    {
     "name": "stdout",
     "output_type": "stream",
     "text": [
      "Image 1 : prediction -> 1    actual -> 1\n",
      "Image 2 : prediction -> 7    actual -> 7\n",
      "Image 3 : prediction -> 17    actual -> 17\n",
      "Image 4 : prediction -> 36    actual -> 36\n",
      "Image 5 : prediction -> 13    actual -> 13\n",
      "\n",
      "predictions =  [ 1  7 17 36 13]\n",
      "labels =       [ 1  7 17 36 13]\n"
     ]
    }
   ],
   "source": [
    "for i in range(len(y_test_new)):\n",
    "    print(\"Image\",i+1,\": prediction ->\",corr_pred[i],\"   actual ->\",y_test_new[i] )\n",
    "print()\n",
    "print (\"predictions = \",corr_pred)\n",
    "print (\"labels =      \",y_test_new)\n"
   ]
  },
  {
   "cell_type": "markdown",
   "metadata": {},
   "source": [
    "### Analyze Performance"
   ]
  },
  {
   "cell_type": "code",
   "execution_count": 158,
   "metadata": {},
   "outputs": [
    {
     "name": "stdout",
     "output_type": "stream",
     "text": [
      "New Test Accuracy = 100.0%\n"
     ]
    }
   ],
   "source": [
    "### Calculate the accuracy for these 5 new images. \n",
    "### For example, if the model predicted 1 out of 5 signs correctly, it's 20% accurate on these new images.\n",
    "\n",
    "with tf.Session() as sess:\n",
    "    saver.restore(sess, tf.train.latest_checkpoint('.'))\n",
    "\n",
    "    new_test_accuracy = evaluate(X_test_new, y_test_new)\n",
    "    print(\"New Test Accuracy = {:.1f}%\".format(new_test_accuracy*100))\n",
    "    \n"
   ]
  },
  {
   "cell_type": "markdown",
   "metadata": {},
   "source": [
    "### Output Top 5 Softmax Probabilities For Each Image Found on the Web"
   ]
  },
  {
   "cell_type": "markdown",
   "metadata": {},
   "source": [
    "For each of the new images, print out the model's softmax probabilities to show the **certainty** of the model's predictions (limit the output to the top 5 probabilities for each image). [`tf.nn.top_k`](https://www.tensorflow.org/versions/r0.12/api_docs/python/nn.html#top_k) could prove helpful here. \n",
    "\n",
    "The example below demonstrates how tf.nn.top_k can be used to find the top k predictions for each image.\n",
    "\n",
    "`tf.nn.top_k` will return the values and indices (class ids) of the top k predictions. So if k=3, for each sign, it'll return the 3 largest probabilities (out of a possible 43) and the correspoding class ids.\n",
    "\n",
    "Take this numpy array as an example. The values in the array represent predictions. The array contains softmax probabilities for five candidate images with six possible classes. `tf.nn.top_k` is used to choose the three classes with the highest probability:\n",
    "\n",
    "```\n",
    "# (5, 6) array\n",
    "a = np.array([[ 0.24879643,  0.07032244,  0.12641572,  0.34763842,  0.07893497,\n",
    "         0.12789202],\n",
    "       [ 0.28086119,  0.27569815,  0.08594638,  0.0178669 ,  0.18063401,\n",
    "         0.15899337],\n",
    "       [ 0.26076848,  0.23664738,  0.08020603,  0.07001922,  0.1134371 ,\n",
    "         0.23892179],\n",
    "       [ 0.11943333,  0.29198961,  0.02605103,  0.26234032,  0.1351348 ,\n",
    "         0.16505091],\n",
    "       [ 0.09561176,  0.34396535,  0.0643941 ,  0.16240774,  0.24206137,\n",
    "         0.09155967]])\n",
    "```\n",
    "\n",
    "Running it through `sess.run(tf.nn.top_k(tf.constant(a), k=3))` produces:\n",
    "\n",
    "```\n",
    "TopKV2(values=array([[ 0.34763842,  0.24879643,  0.12789202],\n",
    "       [ 0.28086119,  0.27569815,  0.18063401],\n",
    "       [ 0.26076848,  0.23892179,  0.23664738],\n",
    "       [ 0.29198961,  0.26234032,  0.16505091],\n",
    "       [ 0.34396535,  0.24206137,  0.16240774]]), indices=array([[3, 0, 5],\n",
    "       [0, 1, 4],\n",
    "       [0, 5, 1],\n",
    "       [1, 3, 5],\n",
    "       [1, 4, 3]], dtype=int32))\n",
    "```\n",
    "\n",
    "Looking just at the first row we get `[ 0.34763842,  0.24879643,  0.12789202]`, you can confirm these are the 3 largest probabilities in `a`. You'll also notice `[3, 0, 5]` are the corresponding indices."
   ]
  },
  {
   "cell_type": "code",
   "execution_count": 234,
   "metadata": {},
   "outputs": [
    {
     "name": "stdout",
     "output_type": "stream",
     "text": [
      "[[  9.99308586e-01   3.53345211e-04   1.97451969e-04   1.35117749e-04\n",
      "    4.53876419e-06]\n",
      " [  8.59202087e-01   1.31829023e-01   5.24102384e-03   3.26515874e-03\n",
      "    1.87574638e-04]\n",
      " [  9.99999642e-01   3.54967881e-07   2.93606881e-08   1.56070907e-08\n",
      "    9.13109766e-09]\n",
      " [  9.99999881e-01   1.48215292e-07   2.34809971e-09   9.96925431e-10\n",
      "    9.09495923e-10]\n",
      " [  1.00000000e+00   1.33629747e-13   1.93706017e-14   3.00565152e-15\n",
      "    3.55169544e-16]]\n",
      "\n",
      "[[ 1  4  2  5  0]\n",
      " [ 7  5  2  1  8]\n",
      " [17 14 16 34 33]\n",
      " [36 34 13 38 35]\n",
      " [13 41 12 38 36]]\n"
     ]
    },
    {
     "data": {
      "image/png": "[encoded data removed]",
      "text/plain": [
       "<matplotlib.figure.Figure at 0x22201dd4e10>"
      ]
     },
     "metadata": {},
     "output_type": "display_data"
    },
    {
     "data": {
      "image/png": "[encoded data removed]",
      "text/plain": [
       "<matplotlib.figure.Figure at 0x22201cceb00>"
      ]
     },
     "metadata": {},
     "output_type": "display_data"
    },
    {
     "data": {
      "image/png": "[encoded data removed]",
      "text/plain": [
       "<matplotlib.figure.Figure at 0x222017081d0>"
      ]
     },
     "metadata": {},
     "output_type": "display_data"
    },
    {
     "data": {
      "image/png": "[encoded data removed]",
      "text/plain": [
       "<matplotlib.figure.Figure at 0x22201e71198>"
      ]
     },
     "metadata": {},
     "output_type": "display_data"
    },
    {
     "data": {
      "image/png": "[encoded data removed]",
      "text/plain": [
       "<matplotlib.figure.Figure at 0x22201f349e8>"
      ]
     },
     "metadata": {},
     "output_type": "display_data"
    }
   ],
   "source": [
    "### Print out the top five softmax probabilities for the predictions on the German traffic sign images found on the web. \n",
    "### Feel free to use as many code cells as needed.\n",
    "\n",
    "print(top_k[0])    \n",
    "print()\n",
    "print(top_k[1])\n",
    "\n",
    "width = 1/1.5\n",
    "\n",
    "xticks= np.arange(5)+1\n",
    "for i in range(5):\n",
    "    plt.figure(figsize=(10,3));\n",
    "    plt.subplot(1,2,1);plt.imshow(X_test_new[i].squeeze(),cmap=\"gray\")\n",
    "    plt.subplot(1,2,2);plt.bar(xticks, top_k[0][i], color=\"blue\");plt.xticks(xticks,(top_k[1][i]));plt.xlabel(\"class\");plt.ylabel(\"softmax prob\")\n",
    "    #plt.show()\n"
   ]
  },
  {
   "cell_type": "markdown",
   "metadata": {},
   "source": [
    "### Project Writeup\n",
    "\n",
    "Once you have completed the code implementation, document your results in a project writeup using this [template](https://github.com/udacity/CarND-Traffic-Sign-Classifier-Project/blob/master/writeup_template.md) as a guide. The writeup can be in a markdown or pdf file. "
   ]
  },
  {
   "cell_type": "markdown",
   "metadata": {},
   "source": [
    "> **Note**: Once you have completed all of the code implementations and successfully answered each question above, you may finalize your work by exporting the iPython Notebook as an HTML document. You can do this by using the menu above and navigating to  \\n\",\n",
    "    \"**File -> Download as -> HTML (.html)**. Include the finished document along with this notebook as your submission."
   ]
  },
  {
   "cell_type": "markdown",
   "metadata": {},
   "source": [
    "---\n",
    "\n",
    "## Step 4 (Optional): Visualize the Neural Network's State with Test Images\n",
    "\n",
    " This Section is not required to complete but acts as an additional excersise for understaning the output of a neural network's weights. While neural networks can be a great learning device they are often referred to as a black box. We can understand what the weights of a neural network look like better by plotting their feature maps. After successfully training your neural network you can see what it's feature maps look like by plotting the output of the network's weight layers in response to a test stimuli image. From these plotted feature maps, it's possible to see what characteristics of an image the network finds interesting. For a sign, maybe the inner network feature maps react with high activation to the sign's boundary outline or to the contrast in the sign's painted symbol.\n",
    "\n",
    " Provided for you below is the function code that allows you to get the visualization output of any tensorflow weight layer you want. The inputs to the function should be a stimuli image, one used during training or a new one you provided, and then the tensorflow variable name that represents the layer's state during the training process, for instance if you wanted to see what the [LeNet lab's](https://classroom.udacity.com/nanodegrees/nd013/parts/fbf77062-5703-404e-b60c-95b78b2f3f9e/modules/6df7ae49-c61c-4bb2-a23e-6527e69209ec/lessons/601ae704-1035-4287-8b11-e2c2716217ad/concepts/d4aca031-508f-4e0b-b493-e7b706120f81) feature maps looked like for it's second convolutional layer you could enter conv2 as the tf_activation variable.\n",
    "\n",
    "For an example of what feature map outputs look like, check out NVIDIA's results in their paper [End-to-End Deep Learning for Self-Driving Cars](https://devblogs.nvidia.com/parallelforall/deep-learning-self-driving-cars/) in the section Visualization of internal CNN State. NVIDIA was able to show that their network's inner weights had high activations to road boundary lines by comparing feature maps from an image with a clear path to one without. Try experimenting with a similar test to show that your trained network's weights are looking for interesting features, whether it's looking at differences in feature maps from images with or without a sign, or even what feature maps look like in a trained network vs a completely untrained one on the same sign image.\n",
    "\n",
    "<figure>\n",
    " <img src=\"visualize_cnn.png\" width=\"380\" alt=\"Combined Image\" />\n",
    " <figcaption>\n",
    " <p></p> \n",
    " <p style=\"text-align: center;\"> Your output should look something like this (above)</p> \n",
    " </figcaption>\n",
    "</figure>\n",
    " <p></p> \n"
   ]
  },
  {
   "cell_type": "code",
   "execution_count": null,
   "metadata": {
    "collapsed": true
   },
   "outputs": [],
   "source": [
    "### Visualize your network's feature maps here.\n",
    "### Feel free to use as many code cells as needed.\n",
    "\n",
    "# image_input: the test image being fed into the network to produce the feature maps\n",
    "# tf_activation: should be a tf variable name used during your training procedure that represents the calculated state of a specific weight layer\n",
    "# activation_min/max: can be used to view the activation contrast in more detail, by default matplot sets min and max to the actual min and max values of the output\n",
    "# plt_num: used to plot out multiple different weight feature map sets on the same block, just extend the plt number for each new feature map entry\n",
    "\n",
    "def outputFeatureMap(image_input, tf_activation, activation_min=-1, activation_max=-1 ,plt_num=1):\n",
    "    # Here make sure to preprocess your image_input in a way your network expects\n",
    "    # with size, normalization, ect if needed\n",
    "    # image_input =\n",
    "    # Note: x should be the same name as your network's tensorflow data placeholder variable\n",
    "    # If you get an error tf_activation is not defined it may be having trouble accessing the variable from inside a function\n",
    "    activation = tf_activation.eval(session=sess,feed_dict={x : image_input})\n",
    "    featuremaps = activation.shape[3]\n",
    "    plt.figure(plt_num, figsize=(15,15))\n",
    "    for featuremap in range(featuremaps):\n",
    "        plt.subplot(6,8, featuremap+1) # sets the number of feature maps to show on each row and column\n",
    "        plt.title('FeatureMap ' + str(featuremap)) # displays the feature map number\n",
    "        if activation_min != -1 & activation_max != -1:\n",
    "            plt.imshow(activation[0,:,:, featuremap], interpolation=\"nearest\", vmin =activation_min, vmax=activation_max, cmap=\"gray\")\n",
    "        elif activation_max != -1:\n",
    "            plt.imshow(activation[0,:,:, featuremap], interpolation=\"nearest\", vmax=activation_max, cmap=\"gray\")\n",
    "        elif activation_min !=-1:\n",
    "            plt.imshow(activation[0,:,:, featuremap], interpolation=\"nearest\", vmin=activation_min, cmap=\"gray\")\n",
    "        else:\n",
    "            plt.imshow(activation[0,:,:, featuremap], interpolation=\"nearest\", cmap=\"gray\")"
   ]
  }
 ],
 "metadata": {
  "anaconda-cloud": {},
  "kernelspec": {
   "display_name": "Python 3",
   "language": "python",
   "name": "python3"
  },
  "language_info": {
   "codemirror_mode": {
    "name": "ipython",
    "version": 3
   },
   "file_extension": ".py",
   "mimetype": "text/x-python",
   "name": "python",
   "nbconvert_exporter": "python",
   "pygments_lexer": "ipython3",
   "version": "3.5.2"
  },
  "widgets": {
   "state": {},
   "version": "1.1.2"
  }
 },
 "nbformat": 4,
 "nbformat_minor": 1
}
